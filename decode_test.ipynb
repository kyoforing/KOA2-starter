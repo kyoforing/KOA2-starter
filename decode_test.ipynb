{
 "cells": [
  {
   "cell_type": "code",
   "execution_count": 1,
   "metadata": {},
   "outputs": [],
   "source": [
    "import io\n",
    "import base64\n",
    "import numpy as np\n",
    "import tensorflow as tf\n",
    "from PIL import Image"
   ]
  },
  {
   "cell_type": "markdown",
   "metadata": {},
   "source": [
    "# Load jpg"
   ]
  },
  {
   "cell_type": "code",
   "execution_count": 2,
   "metadata": {},
   "outputs": [],
   "source": [
    "img_path = \"./test_resize_jpg/sunflowers/1880606744_23e3dc4f6b_n.jpg\"\n",
    "img_string = open(img_path, 'rb').read()"
   ]
  },
  {
   "cell_type": "code",
   "execution_count": 3,
   "metadata": {},
   "outputs": [
    {
     "name": "stdout",
     "output_type": "stream",
     "text": [
      "(224, 224, 3) [232 232 232]\n"
     ]
    }
   ],
   "source": [
    "# Load image directly\n",
    "img_np = np.array(Image.open(io.BytesIO(img_string))) \n",
    "print(img_np.shape, img_np[0, 0, :])"
   ]
  },
  {
   "cell_type": "code",
   "execution_count": 4,
   "metadata": {},
   "outputs": [
    {
     "name": "stdout",
     "output_type": "stream",
     "text": [
      "(224, 224, 3) [231. 231. 231.]\n"
     ]
    }
   ],
   "source": [
    "# Load string and decode\n",
    "img_tensor = tf.io.decode_image(img_string, expand_animations=False)\n",
    "img_tensor = tf.cast(img_tensor, dtype=tf.float32)\n",
    "img_tensor = tf.image.resize(img_tensor, (224, 224))\n",
    "img_tensor = img_tensor.numpy()\n",
    "print(img_tensor.shape, img_tensor[0, 0, :])"
   ]
  },
  {
   "cell_type": "code",
   "execution_count": 5,
   "metadata": {},
   "outputs": [
    {
     "data": {
      "text/plain": [
       "False"
      ]
     },
     "execution_count": 5,
     "metadata": {},
     "output_type": "execute_result"
    }
   ],
   "source": [
    "np.array_equal(img_np, img_tensor)"
   ]
  },
  {
   "cell_type": "markdown",
   "metadata": {},
   "source": [
    "# Load png"
   ]
  },
  {
   "cell_type": "code",
   "execution_count": 6,
   "metadata": {},
   "outputs": [],
   "source": [
    "img_path = \"./test_resize_png/sunflowers/1880606744_23e3dc4f6b_n.png\"\n",
    "img_string = open(img_path, 'rb').read()"
   ]
  },
  {
   "cell_type": "code",
   "execution_count": 7,
   "metadata": {},
   "outputs": [
    {
     "name": "stdout",
     "output_type": "stream",
     "text": [
      "(224, 224, 3) [232 232 232]\n"
     ]
    }
   ],
   "source": [
    "# Load image directly\n",
    "img_np = np.array(Image.open(io.BytesIO(img_string))) \n",
    "print(img_np.shape, img_np[0, 0, :])"
   ]
  },
  {
   "cell_type": "code",
   "execution_count": 8,
   "metadata": {},
   "outputs": [
    {
     "name": "stdout",
     "output_type": "stream",
     "text": [
      "(224, 224, 3) [232. 232. 232.]\n"
     ]
    }
   ],
   "source": [
    "# Load string and decode\n",
    "img_tensor = tf.io.decode_image(img_string, expand_animations=False)\n",
    "img_tensor = tf.cast(img_tensor, dtype=tf.float32)\n",
    "img_tensor = img_tensor.numpy()\n",
    "print(img_tensor.shape, img_tensor[0, 0, :])"
   ]
  },
  {
   "cell_type": "code",
   "execution_count": 9,
   "metadata": {},
   "outputs": [
    {
     "data": {
      "text/plain": [
       "True"
      ]
     },
     "execution_count": 9,
     "metadata": {},
     "output_type": "execute_result"
    }
   ],
   "source": [
    "np.array_equal(img_np, img_tensor)"
   ]
  }
 ],
 "metadata": {
  "kernelspec": {
   "display_name": "Python 3",
   "language": "python",
   "name": "python3"
  },
  "language_info": {
   "codemirror_mode": {
    "name": "ipython",
    "version": 3
   },
   "file_extension": ".py",
   "mimetype": "text/x-python",
   "name": "python",
   "nbconvert_exporter": "python",
   "pygments_lexer": "ipython3",
   "version": "3.6.10"
  },
  "toc": {
   "base_numbering": 1,
   "nav_menu": {},
   "number_sections": true,
   "sideBar": true,
   "skip_h1_title": false,
   "title_cell": "Table of Contents",
   "title_sidebar": "Contents",
   "toc_cell": false,
   "toc_position": {},
   "toc_section_display": true,
   "toc_window_display": false
  }
 },
 "nbformat": 4,
 "nbformat_minor": 4
}
